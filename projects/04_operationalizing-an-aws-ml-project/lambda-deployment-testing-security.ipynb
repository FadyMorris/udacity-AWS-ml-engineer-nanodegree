{
 "cells": [
  {
   "cell_type": "code",
   "execution_count": 5,
   "id": "918ea1c3",
   "metadata": {},
   "outputs": [],
   "source": [
    "LAMBDA_ROLE = \"arn:aws:iam::995409147735:role/fady-project-4-lambda-execution-role\""
   ]
  },
  {
   "cell_type": "code",
   "execution_count": 6,
   "id": "9e03fc96",
   "metadata": {},
   "outputs": [],
   "source": [
    "import boto3\n",
    "from sagemaker import get_execution_role\n",
    "from zipfile import ZipFile\n",
    "import os\n",
    "\n",
    "from PIL import Image\n",
    "import io\n",
    "import requests\n",
    "\n",
    "client = boto3.client('lambda')"
   ]
  },
  {
   "cell_type": "markdown",
   "id": "30d0944a",
   "metadata": {},
   "source": [
    "## Create Lambda Function"
   ]
  },
  {
   "cell_type": "code",
   "execution_count": 8,
   "id": "71372cf6",
   "metadata": {},
   "outputs": [],
   "source": [
    "# A helper function to automate creation of lambdas\n",
    "def create_lambda(function_name, lambda_file):\n",
    "    zip_file = 'code.zip'\n",
    "\n",
    "    with ZipFile(zip_file, 'w') as f:\n",
    "        f.write(lambda_file, arcname='lambda_function.py')\n",
    "\n",
    "    # If submitting as a ZipFile, you need to insert raw data. \n",
    "\n",
    "    with open(zip_file, 'rb') as f:\n",
    "        b_code = f.read()\n",
    "\n",
    "    response = client.create_function(\n",
    "        FunctionName=function_name,\n",
    "        Runtime='python3.8',\n",
    "        Handler='lambda_function.lambda_handler',\n",
    "        Code={\n",
    "            'ZipFile': b_code,\n",
    "        },\n",
    "        Description='string',\n",
    "        Timeout=60,\n",
    "        MemorySize=1024,\n",
    "        Publish=True,\n",
    "        PackageType='Zip',\n",
    "        Role=LAMBDA_ROLE,\n",
    "        Architectures=['x86_64']\n",
    "    )\n",
    "\n",
    "    os.remove(zip_file)"
   ]
  },
  {
   "cell_type": "code",
   "execution_count": 9,
   "id": "d671141e",
   "metadata": {},
   "outputs": [],
   "source": [
    "create_lambda('project4_lambda', 'lamdafunction.py')"
   ]
  },
  {
   "cell_type": "markdown",
   "id": "cfe1c60c",
   "metadata": {},
   "source": [
    "## Test Lambda Function"
   ]
  },
  {
   "cell_type": "code",
   "execution_count": null,
   "id": "b7ccecac",
   "metadata": {},
   "outputs": [],
   "source": [
    "import boto3\n",
    "client = boto3.client('lambda')"
   ]
  },
  {
   "cell_type": "code",
   "execution_count": 18,
   "id": "440495ff",
   "metadata": {},
   "outputs": [],
   "source": [
    "import json"
   ]
  },
  {
   "cell_type": "code",
   "execution_count": 19,
   "id": "fe0919a2",
   "metadata": {},
   "outputs": [],
   "source": [
    "def get_response(function_name, url):\n",
    "    # json.dumps turns a JSON-object-like python object into a string, and .encode('utf-8') encodes the \n",
    "    # the string so that it can be properly passed to the client. \n",
    "    request_dict={ \"url\": url }\n",
    "    payload_bytes = json.dumps(request_dict).encode('utf-8')\n",
    "    \n",
    "    response = client.invoke(\n",
    "        FunctionName=function_name,\n",
    "        InvocationType='RequestResponse',\n",
    "        Payload=payload_bytes\n",
    "    )\n",
    "    # format the response as json\n",
    "    response_json = json.loads(response['Payload'].read().decode('utf-8'))\n",
    "    # Plot the image\n",
    "    \n",
    "    return response_json"
   ]
  },
  {
   "cell_type": "code",
   "execution_count": 20,
   "id": "69f01c98",
   "metadata": {},
   "outputs": [
    {
     "data": {
      "text/plain": [
       "{'statusCode': 200,\n",
       " 'headers': {'Content-Type': 'text/plain', 'Access-Control-Allow-Origin': '*'},\n",
       " 'type-result': \"<class 'str'>\",\n",
       " 'COntent-Type-In': '<__main__.LambdaContext object at 0x7f4928c06ca0>',\n",
       " 'body': '[[-11.303791999816895, -0.2835460603237152, -2.3262336254119873, 2.3676555156707764, 2.952962636947632, -0.8596625924110413, 1.1422855854034424, -0.4955047369003296, -12.457781791687012, 2.0926413536071777, 1.471350908279419, 1.8168784379959106, -6.843474388122559, 1.6292133331298828, 0.8968908786773682, 1.7171382904052734, -4.5302510261535645, 1.013044834136963, -3.6080095767974854, 1.4077301025390625, 0.9759910702705383, 2.2463130950927734, 3.1526944637298584, -5.86719274520874, -2.513768196105957, -6.73335599899292, -0.9887759685516357, -3.000448703765869, 2.198322057723999, -4.3920183181762695, 1.687923550605774, -2.9701857566833496, -6.171981334686279, -1.221778392791748, -3.726682662963867, -3.037400245666504, 0.8334968090057373, -2.6392223834991455, 1.7306047677993774, -2.7808334827423096, -4.194830894470215, -13.974329948425293, 2.1389455795288086, -3.7894749641418457, 1.566296935081482, -1.0487751960754395, -1.6364761590957642, -2.133978843688965, -4.231022357940674, -4.108468055725098, -3.7221856117248535, -2.2409746646881104, -5.188033103942871, 2.8047304153442383, -2.3536505699157715, -1.4141123294830322, 2.0337448120117188, -8.280352592468262, -0.3533684015274048, -2.4014627933502197, -1.5872290134429932, 0.0728941261768341, -0.08738453686237335, -4.980099201202393, 1.965086817741394, -12.156408309936523, -0.2967304587364197, 0.6473137736320496, -7.403229236602783, -1.449440598487854, 2.1562201976776123, -2.8221864700317383, -4.669775485992432, -6.22659158706665, -3.2152531147003174, 1.6007108688354492, -4.403616428375244, 0.08163172006607056, 2.9635941982269287, 2.269050359725952, 0.9824555516242981, -6.248815059661865, 0.8254832029342651, 1.6691889762878418, 0.24585437774658203, -3.088801145553589, -2.789332389831543, -5.8926568031311035, -0.9494233727455139, 0.4486443102359772, -4.559080123901367, -0.44965508580207825, -6.149688720703125, -7.8018879890441895, 2.260425090789795, 0.5384173393249512, -4.942485809326172, 0.7626157999038696, -6.593752861022949, -7.522432327270508, -7.248115539550781, -1.6489903926849365, -1.5874760150909424, -6.754018306732178, -12.343984603881836, -2.3630270957946777, -10.000724792480469, -0.5447306036949158, 2.2822213172912598, 1.0373761653900146, -5.477562427520752, 1.229490041732788, -6.715424537658691, -5.702269554138184, -1.691569447517395, -0.09490278363227844, -5.3022871017456055, 1.8188248872756958, -6.0652852058410645, -1.400007724761963, -1.0357857942581177, -0.6202568411827087, -7.697444438934326, -2.4262468814849854, -10.15333080291748, 0.36955827474594116, -9.873568534851074, 1.582338571548462, 1.6711881160736084, 0.7473098039627075, -8.690412521362305, -3.620002031326294, -5.850146293640137]]'}"
      ]
     },
     "execution_count": 20,
     "metadata": {},
     "output_type": "execute_result"
    }
   ],
   "source": [
    "get_response('project4_lambda', \"https://dogtime.com/assets/uploads/gallery/dalmatian-dog-breed-pictures/10-water.jpg\")"
   ]
  }
 ],
 "metadata": {
  "kernelspec": {
   "display_name": "Python 3 (ipykernel)",
   "language": "python",
   "name": "python3"
  },
  "language_info": {
   "codemirror_mode": {
    "name": "ipython",
    "version": 3
   },
   "file_extension": ".py",
   "mimetype": "text/x-python",
   "name": "python",
   "nbconvert_exporter": "python",
   "pygments_lexer": "ipython3",
   "version": "3.8.12"
  }
 },
 "nbformat": 4,
 "nbformat_minor": 5
}
